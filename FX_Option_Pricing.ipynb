{
 "cells": [
  {
   "cell_type": "code",
   "execution_count": 1,
   "id": "0f829ef7-fa6a-4676-99f3-605052cb08ab",
   "metadata": {},
   "outputs": [],
   "source": [
    "import pandas as pd\n",
    "import numpy as np\n",
    "import ExoticOptions as eo #  <--------------   \n",
    "from datetime import date\n",
    "\n",
    "%load_ext autoreload\n",
    "%autoreload 2"
   ]
  },
  {
   "cell_type": "markdown",
   "id": "c31ae0c0-4ccb-41f2-b508-0237b9169767",
   "metadata": {},
   "source": [
    "### FX Asian Options"
   ]
  },
  {
   "cell_type": "code",
   "execution_count": 2,
   "id": "deec79f5-dbfa-4780-a3f8-7234f69fa865",
   "metadata": {},
   "outputs": [],
   "source": [
    "S = 74.511                    # Spot rate asian\n",
    "K = [72, 76, 65, 85, 90, 70]  # Strikes \n",
    "\n",
    "# Maturity dates\n",
    "mat1 = date(2022, 6, 30)\n",
    "mat2 = date(2025, 3, 31)\n",
    "mat3 = date(2028, 9, 30)\n",
    "\n",
    "# Valuation dates\n",
    "t0 = date(2022, 1, 31)\n",
    "\n",
    "# Time to Maturity (in years)\n",
    "T1 = (mat1 - t0).days/365\n",
    "T2 = (mat2 - t0).days/365\n",
    "T3 = (mat3 - t0).days/365\n",
    "\n",
    "# risk free rate for Asian (INR rate)\n",
    "r = [0.0516, 0.0568, 0.0613]\n",
    "\n",
    "# risk free rate for Asian (USD rate)\n",
    "rf = [0.0036, 0.0138, 0.0157]   \n",
    "\n",
    "# volatlility for Asian\n",
    "sig = [0.0514, 0.0509, 0.0766, 0.0505, 0.0633, 0.098] \n",
    "\n",
    "# Cost of Carry (b) = risk-free rate - constant dividend yield\n",
    "# b = r - rf\n",
    "b_0 = r[0] - rf[0]\n",
    "b_1 = r[1] - rf[1]\n",
    "b_2 = r[2] - rf[2]\n",
    "\n",
    "# Cost of Carry\n",
    "b = [b_0, b_1, b_2]"
   ]
  },
  {
   "cell_type": "code",
   "execution_count": 3,
   "id": "19e12db2-d563-4837-8d43-13338c4cf78f",
   "metadata": {},
   "outputs": [],
   "source": [
    "Asian_1 = eo.AsianGeometricCall(S, K[0], T1, r[0], sig[0], b[0])\n",
    "Asian_2 = eo.AsianGeometricPut(S, K[1], T1, r[0], sig[1], b[0])\n",
    "Asian_3 = eo.AsianGeometricCall(S, K[2], T2, r[1], sig[2], b[1])\n",
    "Asian_4 = eo.AsianGeometricPut(S, K[3], T2, r[1], sig[3], b[1])\n",
    "Asian_5 = eo.AsianGeometricCall(S, K[4], T3, r[2], sig[4], b[2])\n",
    "Asian_6 = eo.AsianGeometricPut(S, K[5], T3, r[2], sig[5], b[2])"
   ]
  },
  {
   "cell_type": "code",
   "execution_count": 4,
   "id": "73641343-adf6-4974-af49-4eeb97ee6e94",
   "metadata": {},
   "outputs": [
    {
     "name": "stdout",
     "output_type": "stream",
     "text": [
      "Asian option 1 -> Price = 3.1794850427959886\n",
      "Asian option 2 -> Price = 1.0038156305339996\n",
      "Asian option 3 -> Price = 12.233416800317606\n",
      "Asian option 4 -> Price = 4.6094683857898175\n",
      "Asian option 5 -> Price = 1.2486893506905794\n",
      "Asian option 6 -> Price = 0.2575332303083635\n"
     ]
    }
   ],
   "source": [
    "Asian_options = [Asian_1, Asian_2, Asian_3, Asian_4, Asian_5, Asian_6]\n",
    "\n",
    "for i in range(len(Asian_options)):\n",
    "    print(\"Asian option\", i+1, \"-> Price =\" , Asian_options[i])"
   ]
  },
  {
   "cell_type": "markdown",
   "id": "12e8fdbb-a3d3-47d5-be4a-5a8c87babca7",
   "metadata": {},
   "source": [
    "### FX Digital Options"
   ]
  },
  {
   "cell_type": "code",
   "execution_count": 5,
   "id": "ccaee64f-a0ed-4cb6-b6bf-0671bc46181a",
   "metadata": {},
   "outputs": [],
   "source": [
    "S = 74.511                    # Spot rate digital\n",
    "K = [72, 76, 65, 85, 90, 70]  # Strikes \n",
    "\n",
    "# Maturity dates\n",
    "mat1 = date(2022, 6, 30)\n",
    "mat2 = date(2025, 3, 31)\n",
    "mat3 = date(2028, 9, 30)\n",
    " \n",
    "# Valuation dates\n",
    "t0 = date(2022, 1, 31)\n",
    "\n",
    "# Time to Maturity (in years)\n",
    "T1 = (mat1 - t0).days/365\n",
    "T2 = (mat2 - t0).days/365\n",
    "T3 = (mat3 - t0).days/365\n",
    "\n",
    "# risk free rate for Digital (INR rate)\n",
    "r = [0.0516, 0.0568, 0.0613]\n",
    "\n",
    "# risk free rate for Digital (USD rate)\n",
    "rf = [0.0036, 0.0138, 0.0157]   \n",
    "\n",
    "# volatlility for Digital\n",
    "sig = [0.0514, 0.0509, 0.0766, 0.0505, 0.0633, 0.098] \n",
    "\n",
    "# Cost of Carry (b) = risk-free rate - constant dividend yield\n",
    "# b = r - rf\n",
    "b_0 = r[0] - rf[0]\n",
    "b_1 = r[1] - rf[1]\n",
    "b_2 = r[2] - rf[2]\n",
    "\n",
    "# Cost of Carry\n",
    "b = [b_0, b_1, b_2]"
   ]
  },
  {
   "cell_type": "code",
   "execution_count": 6,
   "id": "2fc9540e-a630-4bb1-bc06-309114508aa9",
   "metadata": {},
   "outputs": [],
   "source": [
    "Digital_1 = eo.DigitalOption(S, K[0], T1, r[0], sig[0], b[0], typ = \"C\")\n",
    "Digital_2 = eo.DigitalOption(S, K[1], T1, r[0], sig[1], b[0], typ = \"P\")\n",
    "Digital_3 = eo.DigitalOption(S, K[2], T2, r[1], sig[2], b[1], typ = \"C\")\n",
    "Digital_4 = eo.DigitalOption(S, K[3], T2, r[1], sig[3], b[1], typ = \"P\")\n",
    "Digital_5 = eo.DigitalOption(S, K[4], T3, r[2], sig[4], b[2], typ = \"C\")\n",
    "Digital_6 = eo.DigitalOption(S, K[5], T3, r[2], sig[5], b[2], typ = \"P\")"
   ]
  },
  {
   "cell_type": "code",
   "execution_count": 7,
   "id": "de9b125d-ad30-4a86-b05e-908d6214a84e",
   "metadata": {},
   "outputs": [
    {
     "name": "stdout",
     "output_type": "stream",
     "text": [
      "Digital option 1 -> Price = 0.9277730159865943\n",
      "Digital option 2 -> Price = 0.49660540626498184\n",
      "Digital option 3 -> Price = 0.8132321882684049\n",
      "Digital option 4 -> Price = 0.41652419500141064\n",
      "Digital option 5 -> Price = 0.48731912132045874\n",
      "Digital option 6 -> Price = 0.06187055754543685\n"
     ]
    }
   ],
   "source": [
    "Digital_options= [Digital_1, Digital_2, Digital_3, Digital_4, Digital_5, Digital_6]\n",
    "\n",
    "for i in range(len(Digital_options)):\n",
    "    print(\"Digital option\", i+1, \"-> Price =\" , Digital_options[i])"
   ]
  },
  {
   "cell_type": "markdown",
   "id": "630ebc56-da56-4b55-ac59-c67805f85c41",
   "metadata": {},
   "source": [
    "### FX Barrier Options"
   ]
  },
  {
   "cell_type": "code",
   "execution_count": 8,
   "id": "5fe3c6df-0990-49b6-8efc-ca3ad5d7a0ed",
   "metadata": {},
   "outputs": [],
   "source": [
    "H = [80, 50, 60, 70, 100, 90] # Barriers\n",
    "CR = 0                        # Cash Rebate <-------------------- Add\n",
    "\n",
    "S = 74.511                    # Spot rate barrier\n",
    "K = [72, 76, 65, 85, 90, 70]  # Strikes \n",
    "\n",
    "# Maturity dates\n",
    "mat1 = date(2022, 6, 30)\n",
    "mat2 = date(2025, 3, 31)\n",
    "mat3 = date(2028, 9, 30)\n",
    "\n",
    "# Valuation dates\n",
    "t0 = date(2022, 1, 31)\n",
    "\n",
    "# Time to Maturity (in years)\n",
    "T1 = (mat1 - t0).days/365\n",
    "T2 = (mat2 - t0).days/365\n",
    "T3 = (mat3 - t0).days/365\n",
    "\n",
    "# risk free rate for Barrier (INR rate)\n",
    "r = [0.0516, 0.0568, 0.0613]\n",
    "\n",
    "# risk free rate for Barrier (USD rate)\n",
    "rf = [0.0036, 0.0138, 0.0157]   \n",
    "\n",
    "# volatlility for Barrier\n",
    "sig = [0.0514, 0.0509, 0.0766, 0.0505, 0.0633, 0.098] \n",
    "\n",
    "# Cost of Carry (b) = risk-free rate - constant dividend yield\n",
    "# b = r - rf\n",
    "b_0 = r[0] - rf[0]\n",
    "b_1 = r[1] - rf[1]\n",
    "b_2 = r[2] - rf[2]\n",
    "\n",
    "# Cost of Carry\n",
    "b = [b_0, b_1, b_2]"
   ]
  },
  {
   "cell_type": "code",
   "execution_count": 9,
   "id": "f870943c-aeb8-46ec-95e4-fa110f419dc6",
   "metadata": {},
   "outputs": [],
   "source": [
    "Barrier_1 = eo.UpAndInCallBarrier(S, H[0], K[0], CR, T1, r[0], sig[0], b[0])\n",
    "Barrier_2 = eo.DownAndOutPutBarrier(S, H[1], K[1], CR, T1, r[0], sig[1], b[0])\n",
    "Barrier_3 = eo.DownAndOutCallBarrier(S, H[2], K[2], CR, T2, r[1], sig[2], b[1])\n",
    "Barrier_4 = eo.DownAndInPutBarrier(S, H[3], K[3], CR, T2, r[1], sig[3], b[1])\n",
    "Barrier_5 = eo.UpAndOutCallBarrier(S, H[4], K[4], CR, T3, r[2], sig[4], b[2])\n",
    "Barrier_6 = eo.UpAndInPutBarrier(S, H[5], K[5], CR, T3, r[2], sig[5], b[2])"
   ]
  },
  {
   "cell_type": "code",
   "execution_count": 10,
   "id": "c598a756-fc11-4dd7-919d-7ec8adc0e220",
   "metadata": {},
   "outputs": [
    {
     "name": "stdout",
     "output_type": "stream",
     "text": [
      "Barrier option 1 -> Price = 0.7835783406979189\n",
      "Barrier option 2 -> Price = 0.9707522868553511\n",
      "Barrier option 3 -> Price = 17.07136559105409\n",
      "Barrier option 4 -> Price = 0.8571870276780812\n",
      "Barrier option 5 -> Price = 0.3769550827321393\n",
      "Barrier option 6 -> Price = 0.03967104725670356\n"
     ]
    }
   ],
   "source": [
    "Barrier_options = [Barrier_1, Barrier_2, Barrier_3, Barrier_4, Barrier_5, Barrier_6]\n",
    "\n",
    "for i in range(len(Barrier_options)):\n",
    "    print(\"Barrier option\", i+1, \"-> Price =\" , Barrier_options[i])"
   ]
  }
 ],
 "metadata": {
  "kernelspec": {
   "display_name": "Python 3",
   "language": "python",
   "name": "python3"
  },
  "language_info": {
   "codemirror_mode": {
    "name": "ipython",
    "version": 3
   },
   "file_extension": ".py",
   "mimetype": "text/x-python",
   "name": "python",
   "nbconvert_exporter": "python",
   "pygments_lexer": "ipython3",
   "version": "3.8.8"
  }
 },
 "nbformat": 4,
 "nbformat_minor": 5
}
